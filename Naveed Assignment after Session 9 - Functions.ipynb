{
 "cells": [
  {
   "cell_type": "code",
   "execution_count": 12,
   "id": "eaabc9e2",
   "metadata": {},
   "outputs": [],
   "source": [
    "import json\n",
    "with open(\"sales.json\") as f:\n",
    "    sales = json.load(f)"
   ]
  },
  {
   "cell_type": "code",
   "execution_count": 13,
   "id": "df3ee01a",
   "metadata": {},
   "outputs": [],
   "source": [
    "for v in sales.values():\n",
    "    purchase_total = v['purchase_total']\n",
    "    currency = v['currency']\n",
    "    \n",
    "#     print(purchase_total, currency)"
   ]
  },
  {
   "cell_type": "code",
   "execution_count": 14,
   "id": "53ae4e88",
   "metadata": {},
   "outputs": [],
   "source": [
    "import requests\n",
    "url =  \"https://api.exchangerate-api.com/v4/latest/USD\"\n",
    "response = requests.get(url)\n",
    "data = response.json()"
   ]
  },
  {
   "cell_type": "code",
   "execution_count": 15,
   "id": "03c341da",
   "metadata": {},
   "outputs": [
    {
     "name": "stdout",
     "output_type": "stream",
     "text": [
      "74.44444444444444 USD from 100.5 CAD\n",
      "81.88248095756256 USD from 75.25 EUR\n",
      "64.32192648922687 USD from 50.75 GBP\n",
      "200.1 USD from 200.1 USD\n",
      "1.023838630806846 USD from 150.75 JPY\n",
      "222.59259259259258 USD from 300.5 CAD\n",
      "80.0 USD from 80.0 USD\n",
      "70.0253485424588 USD from 55.25 GBP\n",
      "89.33333333333333 USD from 120.6 CAD\n",
      "196.13710554951032 USD from 180.25 EUR\n",
      "0.6163406682966585 USD from 90.75 JPY\n",
      "250.9 USD from 250.9 USD\n",
      "89.03675538656528 USD from 70.25 GBP\n",
      "104.07407407407406 USD from 140.5 CAD\n",
      "104.24374319912948 USD from 95.8 EUR\n",
      "1.2275876120619396 USD from 180.75 JPY\n",
      "210.25 USD from 210.25 USD\n",
      "83.01647655259822 USD from 65.5 GBP\n",
      "81.62962962962963 USD from 110.2 CAD\n",
      "169.0424374319913 USD from 155.35 EUR\n",
      "0.5484243412116272 USD from 80.75 JPY\n",
      "280.4 USD from 280.4 USD\n",
      "76.36248415716096 USD from 60.25 GBP\n",
      "96.85185185185185 USD from 130.75 CAD\n",
      "191.4036996735582 USD from 175.9 EUR\n",
      "0.5823825047541429 USD from 85.75 JPY\n",
      "195.25 USD from 195.25 USD\n",
      "64.00506970849176 USD from 50.5 GBP\n",
      "89.1111111111111 USD from 120.3 CAD\n"
     ]
    }
   ],
   "source": [
    "for v in sales.values():\n",
    "    purchase_total = v['purchase_total']\n",
    "    currency = v['currency']\n",
    "\n",
    "    exch_rates = data[\"rates\"][currency]\n",
    "    \n",
    "    usd = purchase_total/exch_rates\n",
    "    \n",
    "    print(usd,\"USD from\",purchase_total,currency)"
   ]
  },
  {
   "cell_type": "code",
   "execution_count": 19,
   "id": "874fe6a1",
   "metadata": {},
   "outputs": [],
   "source": [
    "def reporting_curr_sales(reporting_curr):\n",
    "    \n",
    "    \"\"\"\n",
    "    This is build to produce a total sales in reporting currency  \n",
    "    You need to pass the argument of your required reporting currency \n",
    "    as 3 character upper string eg \"MYR\"\n",
    "    \n",
    "    The available currencies are: \n",
    "    ['AED', 'AFN', 'ALL', 'AMD', 'ANG', 'AOA', 'ARS', 'AUD', 'AWG', 'AZN', \n",
    "    'BAM', 'BBD', 'BDT', 'BGN', 'BHD', 'BIF', 'BMD', 'BND', 'BOB', 'BRL', \n",
    "    'BSD', 'BTN', 'BWP', 'BYN', 'BZD', 'CAD', 'CDF', 'CHF', 'CLP', 'CNY', \n",
    "    'COP', 'CRC', 'CUP', 'CVE', 'CZK', 'DJF', 'DKK', 'DOP', 'DZD', 'EGP', \n",
    "    'ERN', 'ETB', 'EUR', 'FJD', 'FKP', 'FOK', 'GBP', 'GEL', 'GGP', 'GHS', \n",
    "    'GIP', 'GMD', 'GNF', 'GTQ', 'GYD', 'HKD', 'HNL', 'HRK', 'HTG', 'HUF', \n",
    "    'IDR', 'ILS', 'IMP', 'INR', 'IQD', 'IRR', 'ISK', 'JEP', 'JMD', 'JOD', \n",
    "    'JPY', 'KES', 'KGS', 'KHR', 'KID', 'KMF', 'KRW', 'KWD', 'KYD', 'KZT', \n",
    "    'LAK', 'LBP', 'LKR', 'LRD', 'LSL', 'LYD', 'MAD', 'MDL', 'MGA', 'MKD', \n",
    "    'MMK', 'MNT', 'MOP', 'MRU', 'MUR', 'MVR', 'MWK', 'MXN', 'MYR', 'MZN', \n",
    "    'NAD', 'NGN', 'NIO', 'NOK', 'NPR', 'NZD', 'OMR', 'PAB', 'PEN', 'PGK', \n",
    "    'PHP', 'PKR', 'PLN', 'PYG', 'QAR', 'RON', 'RSD', 'RUB', 'RWF', 'SAR', \n",
    "    'SBD', 'SCR', 'SDG', 'SEK', 'SGD', 'SHP', 'SLE', 'SLL', 'SOS', 'SRD', \n",
    "    'SSP', 'STN', 'SYP', 'SZL', 'THB', 'TJS', 'TMT', 'TND', 'TOP', 'TRY', \n",
    "    'TTD', 'TVD', 'TWD', 'TZS', 'UAH', 'UGX', 'USD', 'UYU', 'UZS', 'VES', \n",
    "    'VND', 'VUV', 'WST', 'XAF', 'XCD', 'XDR', 'XOF', 'XPF', 'YER', 'ZAR', \n",
    "    'ZMW', 'ZWL']\n",
    "    \n",
    "    \"\"\"\n",
    "    url =  f\"https://api.exchangerate-api.com/v4/latest/{reporting_curr}\"\n",
    "    response = requests.get(url)\n",
    "    data = response.json()\n",
    "\n",
    "    total_sales_rpt_curr = 0\n",
    "    \n",
    "    for v in sales.values():\n",
    "        purchase_total = v['purchase_total']\n",
    "        currency = v['currency']\n",
    "        exch_rates = data[\"rates\"][currency]\n",
    "\n",
    "        rpt_curr_amount = purchase_total/exch_rates\n",
    "\n",
    "        total_sales_rpt_curr += rpt_curr_amount\n",
    "    print(\"The total sales in\", reporting_curr, \"is\",total_sales_rpt_curr)\n",
    "#    return total_sales_rpt_curr"
   ]
  },
  {
   "cell_type": "code",
   "execution_count": 20,
   "id": "ebbff26c",
   "metadata": {},
   "outputs": [
    {
     "name": "stdout",
     "output_type": "stream",
     "text": [
      "The total sales in PKR is 903044.5658350984\n"
     ]
    }
   ],
   "source": [
    "reporting_curr_sales(\"PKR\")"
   ]
  },
  {
   "cell_type": "code",
   "execution_count": 21,
   "id": "0b58f280",
   "metadata": {},
   "outputs": [
    {
     "name": "stdout",
     "output_type": "stream",
     "text": [
      "\n",
      "    This is build to produce a total sales in reporting currency  \n",
      "    You need to pass the argument of your required reporting currency \n",
      "    as 3 character upper string eg \"MYR\"\n",
      "    \n",
      "    The available currencies are: \n",
      "    ['AED', 'AFN', 'ALL', 'AMD', 'ANG', 'AOA', 'ARS', 'AUD', 'AWG', 'AZN', \n",
      "    'BAM', 'BBD', 'BDT', 'BGN', 'BHD', 'BIF', 'BMD', 'BND', 'BOB', 'BRL', \n",
      "    'BSD', 'BTN', 'BWP', 'BYN', 'BZD', 'CAD', 'CDF', 'CHF', 'CLP', 'CNY', \n",
      "    'COP', 'CRC', 'CUP', 'CVE', 'CZK', 'DJF', 'DKK', 'DOP', 'DZD', 'EGP', \n",
      "    'ERN', 'ETB', 'EUR', 'FJD', 'FKP', 'FOK', 'GBP', 'GEL', 'GGP', 'GHS', \n",
      "    'GIP', 'GMD', 'GNF', 'GTQ', 'GYD', 'HKD', 'HNL', 'HRK', 'HTG', 'HUF', \n",
      "    'IDR', 'ILS', 'IMP', 'INR', 'IQD', 'IRR', 'ISK', 'JEP', 'JMD', 'JOD', \n",
      "    'JPY', 'KES', 'KGS', 'KHR', 'KID', 'KMF', 'KRW', 'KWD', 'KYD', 'KZT', \n",
      "    'LAK', 'LBP', 'LKR', 'LRD', 'LSL', 'LYD', 'MAD', 'MDL', 'MGA', 'MKD', \n",
      "    'MMK', 'MNT', 'MOP', 'MRU', 'MUR', 'MVR', 'MWK', 'MXN', 'MYR', 'MZN', \n",
      "    'NAD', 'NGN', 'NIO', 'NOK', 'NPR', 'NZD', 'OMR', 'PAB', 'PEN', 'PGK', \n",
      "    'PHP', 'PKR', 'PLN', 'PYG', 'QAR', 'RON', 'RSD', 'RUB', 'RWF', 'SAR', \n",
      "    'SBD', 'SCR', 'SDG', 'SEK', 'SGD', 'SHP', 'SLE', 'SLL', 'SOS', 'SRD', \n",
      "    'SSP', 'STN', 'SYP', 'SZL', 'THB', 'TJS', 'TMT', 'TND', 'TOP', 'TRY', \n",
      "    'TTD', 'TVD', 'TWD', 'TZS', 'UAH', 'UGX', 'USD', 'UYU', 'UZS', 'VES', \n",
      "    'VND', 'VUV', 'WST', 'XAF', 'XCD', 'XDR', 'XOF', 'XPF', 'YER', 'ZAR', \n",
      "    'ZMW', 'ZWL']\n",
      "    \n",
      "    \n"
     ]
    }
   ],
   "source": [
    "print(reporting_curr_sales.__doc__)"
   ]
  }
 ],
 "metadata": {
  "kernelspec": {
   "display_name": "Python 3 (ipykernel)",
   "language": "python",
   "name": "python3"
  },
  "language_info": {
   "codemirror_mode": {
    "name": "ipython",
    "version": 3
   },
   "file_extension": ".py",
   "mimetype": "text/x-python",
   "name": "python",
   "nbconvert_exporter": "python",
   "pygments_lexer": "ipython3",
   "version": "3.11.4"
  }
 },
 "nbformat": 4,
 "nbformat_minor": 5
}
